{
 "cells": [
  {
   "cell_type": "markdown",
   "metadata": {},
   "source": [
    "# Homework - Bayesian modeling - Part B (40 points) \n",
    "## Probabilistic programs for productive reasoning"
   ]
  },
  {
   "cell_type": "markdown",
   "metadata": {},
   "source": [
    "by *Brenden Lake* and *Todd Gureckis*  \n",
    "Computational Cognitive Modeling  \n",
    "NYU class webpage: https://brendenlake.github.io/CCM-site/  "
   ]
  },
  {
   "cell_type": "markdown",
   "metadata": {},
   "source": [
    "People can reason in very flexible and sophisticated ways. Let's consider an example that was introduced in Gerstenberg and Goodman (2012; see below for reference). Imagine that Brenden and Todd are playing tennis together, and Brenden wins the game. You might suspect that Brenden is a strong player, but you may also not think much of it, since it was only one game and we don't know much about Todd's ability.\n",
    "\n",
    "Now imagine that you also learn that Todd has recently played against two other faculty members in the Psychology department, and he won both of those games. You would now have a higher opinion of Brenden's skill.\n",
    "\n",
    "Now, say you also learn that Todd was feeling very lazy in his game against Brenden. This could change your opinion yet again about Brenden's skill.\n",
    "\n",
    "In this notebook, you will get hands on experience using simple probabilistic programs and Bayesian inference to model these patterns of reasoning. Probabilistic programs are a powerful way to write Bayesian models, and they are especially useful when the prior distribution is more complex than a list of hypotheses, or is inconvenient to represent with a probabilistic graphical model.\n",
    "\n",
    "Probabilistic programming is an active area of research. There are specially designed probabilistic programming languages such as [WebPPL](http://webppl.org/). Other languages have been introduced that combine aspects of probabilistic programming and neural networks, such as [Pyro](http://pyro.ai/), and [Edward](http://edwardlib.org/). Rather than using a particular language, we will use vanilla Python to express an interesting probability distribution as a probabilistic program, and you will be asked to write your own rejection sampler for inference. More generally, an important component of the appeal of probabilistic programming is that when using a specialized language, you can take advantage of general algorithms for Bayesian inference without having to implement your own.\n",
    "\n",
    "Great, let's proceed with the probabilistic model of tennis!"
   ]
  },
  {
   "cell_type": "markdown",
   "metadata": {},
   "source": [
    "<div class=\"alert alert-info\">\n",
    "The Bayesian tennis game was introduced by Tobi Gerstenberg and Noah Goodman in the following material:\n",
    "<br>\n",
    "<ul>\n",
    "    <li>Gerstenberg, T., & Goodman, N. (2012). Ping Pong in Church: Productive use of concepts in human probabilistic inference. In Proceedings of the Annual Meeting of the Cognitive Science Society.</li>\n",
    "    <li>Probabilistic models of cognition online book (Chapter 3) (https://probmods.org/chapters/03-conditioning.html)</li>\n",
    "</ul>\n",
    "\n",
    "</div>"
   ]
  },
  {
   "cell_type": "markdown",
   "metadata": {},
   "source": [
    "## Probabilistic model\n",
    "\n",
    "The generative model can be described as follows. There are various players engaged in a tennis tournament. Matches can be played either as a singles match (Player A vs. Player B) or as a doubles match (Player A and Player B vs. Player C and Player D).\n",
    "\n",
    "Each player has a latent `strength` value which describes his or her skill at tennis. This quantity is unobserved for each player, and it is a persistent property in the world. Therefore, the `strength` stays the same across the entire set of matches.\n",
    "\n",
    "A match is decided by whichever team has more `team_strength`. Thus, if it's just Player A vs. Player B, the stronger player will win. If it's a doubles match, `team_strength` is the sum of the strengths determines which team will be the `winner`. However, there is an additional complication. On occasion (with probability 0.1), a player becomes `lazy`, in that he or she doesn't try very hard for this particular match. For the purpose of this match, his or her `strength` is reduced by half. Importantly, this is a temporary (non-persistent) state which is does not affect the next match.\n",
    "\n",
    "This completes our generative model of how the data is produced. In this assignment, we will use Bayesian inference to reason about latent parameters in the model, such as reasoning about a player's strength given observations of his or her performance.\n",
    "\n",
    "### Concepts as programs\n",
    "**A powerful idea is that we can model concepts like `strength`, `lazy`, `team_strength`, `winner`, and `beat` as programs, usually simple stochastic functions that operate on inputs and produce outputs.** You will see many examples of this in the code below. Under this view, the meaning of a \"word\" comes from the semantics of the program, and how the program interact with eachother. Can all of our everyday concepts be represented as programs? It's an open question, and the excitement around probabilistic programming is that it provides a toolkit for exploring this idea."
   ]
  },
  {
   "cell_type": "code",
   "execution_count": 1,
   "metadata": {},
   "outputs": [],
   "source": [
    "# Import the necessary packages\n",
    "from __future__ import print_function\n",
    "%matplotlib inline\n",
    "import matplotlib\n",
    "import matplotlib.pyplot as plt\n",
    "import random\n",
    "import numpy as np\n",
    "from scipy.stats.mstats import pearsonr"
   ]
  },
  {
   "cell_type": "markdown",
   "metadata": {},
   "source": [
    "### Persistent properties\n",
    "The strength of each player is the only persistent property. In the code below, we create a `world` class which stores the persistent states. In this case, it's simply a dictionary `dict_strength` that maps each player's name to his or her strength. Conveniently, the world class gives us a method `clear` that resets the world state, which is useful when we want to clear everything and produce a fresh sample of the world.\n",
    "\n",
    "The `strength` function takes a player's `name` and queries the world `W` for the appropriate strength value. If it's a new player, their strength is sampled from a Gaussian distribution (with $\\mu=10$ and $\\sigma=3$) and stored persistently in the world state. As you can see, this captures something about our intuitive notion of strength as a persistent property.\n",
    "\n"
   ]
  },
  {
   "cell_type": "code",
   "execution_count": 2,
   "metadata": {},
   "outputs": [],
   "source": [
    "class world():\n",
    "    def __init__(self):\n",
    "        self.dict_strength = {}\n",
    "    def clear(self): # used when sampling over possible world\n",
    "        self.dict_strength = {}\n",
    "\n",
    "W = world()\n",
    "\n",
    "def strength(name):\n",
    "    if name not in W.dict_strength:\n",
    "        W.dict_strength[name] = abs(random.gauss(10,3))\n",
    "    return W.dict_strength[name]"
   ]
  },
  {
   "cell_type": "markdown",
   "metadata": {},
   "source": [
    "### Computing team strength\n",
    "Next is the `lazy` function. When the lazy function is called on the `name` of a particular player, the answer is computed fresh each time (and is not stored persistently like strength).\n",
    "\n",
    "The total strength of a team `team_strength` takes a list of names `team` and computes the aggregate strength. This is a simple sum across the team members, with a special case for lazy team members. For a game like tennis, this program captures aspects of what we mean when we think about \"the strength of a team\" -- although simplified, of course."
   ]
  },
  {
   "cell_type": "code",
   "execution_count": 3,
   "metadata": {},
   "outputs": [],
   "source": [
    "def lazy(name):\n",
    "    return random.random() < 0.1"
   ]
  },
  {
   "cell_type": "code",
   "execution_count": 4,
   "metadata": {},
   "outputs": [],
   "source": [
    "def team_strength(team):\n",
    "    # team : list of names\n",
    "    mysum = 0.\n",
    "    for name in team:\n",
    "        if lazy(name):\n",
    "            mysum += (strength(name) / 2.)\n",
    "        else:\n",
    "            mysum += strength(name)\n",
    "    return mysum"
   ]
  },
  {
   "cell_type": "markdown",
   "metadata": {},
   "source": [
    "### Computing the winner\n",
    "The `winner` of a match returns the team with a higher strength value. Again, we can represent this as a very simple function of `team_strength`.\n",
    "\n",
    "Finally, the function `beat` checks whether `team1` outperformed `team2` (returning `True`) or not (returning `False`)."
   ]
  },
  {
   "cell_type": "code",
   "execution_count": 5,
   "metadata": {},
   "outputs": [],
   "source": [
    "def winner(team1,team2):\n",
    "    # team1 : list of names\n",
    "    # team2 : list of names\n",
    "    if team_strength(team1) > team_strength(team2):\n",
    "        return team1\n",
    "    else:\n",
    "        return team2\n",
    "\n",
    "def beat(team1,team2):\n",
    "    return winner(team1,team2) == team1"
   ]
  },
  {
   "cell_type": "markdown",
   "metadata": {},
   "source": [
    "# Probabilistic inference\n",
    "<div class=\"alert alert-success\" role=\"alert\">\n",
    "<h3> Problem 1 (15 points) </h3>\n",
    "<br>\n",
    "Your first task is to complete the missing code in the `rejection_sampler` function below to perform probabilistic inference in the model. You give it a list of function handles `list_f_conditions` which represent the data we are conditioning on, and thus these functions must evaluate to `True` in the current state of the world. If they do, then you want to grab the variable of interest using the function handle `f_return` and store it in the `samples` vector, which is returned as a numpy array.\n",
    "\n",
    "Please fill out the function below.\n",
    "</div>\n",
    "\n",
    "<div class=\"alert alert-info\">\n",
    "Note: A function handle `f_return` is a pointer to a function which can be executed with the syntax `f_return()`. We need to pass handles, rather than pre-executed functions, so the rejection sampler can control for itself when to execute the functions.\n",
    "</div>"
   ]
  },
  {
   "cell_type": "code",
   "execution_count": 6,
   "metadata": {},
   "outputs": [],
   "source": [
    "def rejection_sampler(f_return, list_f_conditions, nsamp=10000):\n",
    "    # Input\n",
    "    #  f_return : function handle that grabs the variable of interest when executed\n",
    "    #  list_f_conditions: list of conditions (function handles) that we are assuming are True\n",
    "    #  nsamp : number of attempted samples (default is 10000)\n",
    "    # Output\n",
    "    #  samples : (as a numpy-array) where length is the number of actual, accepted samples\n",
    "    samples = []\n",
    "    for i in range(nsamp):        \n",
    "        # TODO : your code goes here (don't forget to call W.clear() before each attempted sample)\n",
    "        W.clear()\n",
    "        for f_condition in list_f_conditions:\n",
    "            if not f_condition():\n",
    "                break\n",
    "        else:\n",
    "            samples.append(f_return())\n",
    "    return np.array(samples)"
   ]
  },
  {
   "cell_type": "markdown",
   "metadata": {},
   "source": [
    "Use the code below to test your rejection sampler. Let's assume Bob and Mary beat Tom and Sue in their tennis match. Also, Bob and Sue beat Tom and Jim. What is our mean estimate of Bob's strength? (The right answer is around 11.86, but you won't get that exactly. Check that you are in the same ballpark). "
   ]
  },
  {
   "cell_type": "code",
   "execution_count": 7,
   "metadata": {},
   "outputs": [
    {
     "name": "stdout",
     "output_type": "stream",
     "text": [
      "Estimate of Bob's strength: mean = 11.859377517261931; effective n = 13855\n"
     ]
    }
   ],
   "source": [
    "f_return = lambda : strength('bob')\n",
    "list_f_conditions = [lambda : beat( ['bob', 'mary'],['tom', 'sue'] ), lambda : beat( ['bob', 'sue'],  ['tom', 'jim'] )]\n",
    "samples = rejection_sampler(f_return, list_f_conditions, nsamp=50000)\n",
    "mean_strength = np.mean(samples)\n",
    "print(\"Estimate of Bob's strength: mean = \" + str(mean_strength) + \"; effective n = \" + str(len(samples)))"
   ]
  },
  {
   "cell_type": "markdown",
   "metadata": {},
   "source": [
    "## Comparing judgments from people and the model\n",
    "We want to explore how well the model matches human judgments of strength. In the table below, there are six different doubles tennis tournaments. Each tournament consists of three doubles matches, and each letter represents a different player. Thus, in the first tournament, the first match shows Player A and Player B winning against Player C and Player D. In the second match, Player A and Player B win against Player E and F. Given the evidence, how strong is Player A in Scenario 1? How strong is Player A in Scenario 2? The data in the different scenarios should be considered separate (they are alternative possible worlds, rather than sequential tournaments).\n",
    "\n",
    "<div class=\"alert alert-success\" role=\"alert\">\n",
    "For each tournament, rate how strong you think Player A is using a 1 to 7 scale, where 1 is the weakest and 7 is the strongest. Also, explain the scenario to a friend and ask for their ratings as well. Be sure to mention that sometimes a player is lazy (about 10 percent of the time) and doesn't perform as well. \n",
    "</div>\n",
    "\n",
    "<img src=\"images/tennis_games.jpeg\" style=\"width: 600px;\"/>"
   ]
  },
  {
   "cell_type": "code",
   "execution_count": 9,
   "metadata": {},
   "outputs": [],
   "source": [
    "# TODO : YOUR DATA GOES HERE\n",
    "subject1_pred = np.array([4,5,6,3,6,7])\n",
    "subject2_pred = np.array([4,4,6,3,7,6])"
   ]
  },
  {
   "cell_type": "markdown",
   "metadata": {},
   "source": [
    "The code below will use your rejection sampler to predict the strength of Player A in all six of the scenarios. These six numbers will be stored in the array `model_pred`"
   ]
  },
  {
   "cell_type": "code",
   "execution_count": 10,
   "metadata": {},
   "outputs": [
    {
     "name": "stdout",
     "output_type": "stream",
     "text": [
      "Scenario 1\n",
      "  sample mean : 12.06718178911436; n=2096\n",
      "Scenario 2\n",
      "  sample mean : 12.02311047386018; n=2184\n",
      "Scenario 3\n",
      "  sample mean : 12.134493731828595; n=729\n",
      "Scenario 4\n",
      "  sample mean : 10.584282569141315; n=2789\n",
      "Scenario 5\n",
      "  sample mean : 12.513541216085992; n=1720\n",
      "Scenario 6\n",
      "  sample mean : 13.161190355276107; n=1178\n"
     ]
    }
   ],
   "source": [
    "model_pred = []\n",
    "\n",
    "f_return = lambda : strength('A')\n",
    "\n",
    "f_conditions = [lambda : beat( ['A', 'B'],['C', 'D'] ), lambda : beat( ['A', 'B'],['E', 'F'] ), lambda : beat( ['A', 'B'],  ['G', 'H'] ) ]\n",
    "samples = rejection_sampler(f_return, f_conditions)\n",
    "print(\"Scenario 1\")\n",
    "print(\"  sample mean : \" + str(np.mean(samples)) + \"; n=\" + str(len(samples)))\n",
    "model_pred.append(np.mean(samples))\n",
    "\n",
    "f_conditions = [lambda : beat( ['A', 'B'],['E', 'F'] ), lambda : beat( ['A', 'C'],['E', 'G'] ), lambda : beat( ['A', 'D'],  ['E', 'H'] ) ]\n",
    "samples = rejection_sampler(f_return, f_conditions)\n",
    "print(\"Scenario 2\")\n",
    "print(\"  sample mean : \" + str(np.mean(samples)) + \"; n=\" + str(len(samples)))\n",
    "model_pred.append(np.mean(samples))\n",
    "\n",
    "f_conditions = [lambda : beat( ['A', 'B'],['E', 'F'] ), lambda : beat(['E', 'F'], ['B', 'C'] ), lambda : beat( ['E', 'F'], ['B', 'D'] ) ]\n",
    "samples = rejection_sampler(f_return, f_conditions)\n",
    "print(\"Scenario 3\")\n",
    "print(\"  sample mean : \" + str(np.mean(samples)) + \"; n=\" + str(len(samples)))\n",
    "model_pred.append(np.mean(samples))\n",
    "\n",
    "f_conditions = [lambda : beat( ['A', 'B'],['E', 'F'] ), lambda : beat( ['B', 'C'],['E', 'F'] ), lambda : beat( ['B', 'D'],  ['E', 'F'] ) ]\n",
    "samples = rejection_sampler(f_return, f_conditions)\n",
    "print(\"Scenario 4\")\n",
    "print(\"  sample mean : \" + str(np.mean(samples)) + \"; n=\" + str(len(samples)))\n",
    "model_pred.append(np.mean(samples))\n",
    "\n",
    "f_conditions = [lambda : beat( ['A', 'B'],['E', 'F'] ), lambda : beat( ['A', 'C'],['G', 'H'] ), lambda : beat( ['A', 'D'],  ['I', 'J'] ) ]\n",
    "samples = rejection_sampler(f_return, f_conditions)\n",
    "print(\"Scenario 5\")\n",
    "print(\"  sample mean : \" + str(np.mean(samples)) + \"; n=\" + str(len(samples)))\n",
    "model_pred.append(np.mean(samples))\n",
    "\n",
    "f_conditions = [lambda : beat( ['A', 'B'],['C', 'D'] ), lambda : beat( ['A', 'C'],['B', 'D'] ), lambda : beat( ['A', 'D'],  ['B', 'C'] ) ]\n",
    "samples = rejection_sampler(f_return, f_conditions)\n",
    "print(\"Scenario 6\")\n",
    "print(\"  sample mean : \" + str(np.mean(samples)) + \"; n=\" + str(len(samples)))\n",
    "model_pred.append(np.mean(samples))"
   ]
  },
  {
   "cell_type": "markdown",
   "metadata": {},
   "source": [
    "This code creates a bar graph to compare the human and model predictions for Player A's strength."
   ]
  },
  {
   "cell_type": "code",
   "execution_count": 11,
   "metadata": {},
   "outputs": [
    {
     "data": {
      "image/png": "[encoded data removed]",
      "text/plain": [
       "<Figure size 640x480 with 1 Axes>"
      ]
     },
     "metadata": {},
     "output_type": "display_data"
    },
    {
     "name": "stdout",
     "output_type": "stream",
     "text": [
      "correlation between human and model predictions; r = 0.863\n"
     ]
    }
   ],
   "source": [
    "def normalize(v):\n",
    "    # scale vector v to have min 0 and max 1\n",
    "    v = v - np.min(v)\n",
    "    v = v / np.max(v)\n",
    "    return v\n",
    "\n",
    "human_pred_norm = normalize((subject1_pred+subject2_pred)/2.)\n",
    "model_pred_norm = normalize(model_pred)\n",
    "\n",
    "# compare predictions from people vs. Bayesian mdoel\n",
    "mybottom = -0.1\n",
    "width = 0.35 \n",
    "plt.figure(1)\n",
    "plt.bar(np.arange(len(human_pred_norm)),human_pred_norm-mybottom, width, bottom=mybottom, color='red')\n",
    "plt.bar(np.arange(len(human_pred_norm))+width, model_pred_norm-mybottom, width, bottom=mybottom, color='blue')\n",
    "plt.ylabel('estimated strength (normalized)')\n",
    "plt.legend(('people','model'))\n",
    "plt.show()\n",
    "\n",
    "r = pearsonr(human_pred_norm,model_pred_norm)[0]\n",
    "print('correlation between human and model predictions; r = ' + str(round(r,3)))\n"
   ]
  },
  {
   "cell_type": "markdown",
   "metadata": {},
   "source": [
    "<div class=\"alert alert-success\" role=\"alert\">\n",
    "<h3> Problem 2 (10 points) </h3>\n",
    "<br>\n",
    "In the cell below, briefly comment on whether or not the model is a good account of the human judgments. Which of the six scenarios do you think indicates that Player A is the strongest? Which of the scenarios indicates the Player A is the weakest? Does the model agree? Your reponse should be one or two paragraphs.\n",
    "</div>"
   ]
  },
  {
   "cell_type": "markdown",
   "metadata": {},
   "source": [
    "Answer 2\n",
    "\n",
    "Overall, the model aligns well with human judgments. In scenarios 5 and 6, I believe player A is the strongest. In scenario 5, A consistently wins regardless of their partner, and in scenario 6, A still wins when paired with someone they have already beaten. In contrast, player A seems weakest in scenario 4; the second and third matches suggest that A may have only won the first match due to B’s strength.\n",
    "\n",
    "The model reflects this perspective, giving scenario 6 the highest score and scenario 4 the lowest. There is also a strong correlation between the judgments of humans and the model."
   ]
  },
  {
   "cell_type": "markdown",
   "metadata": {},
   "source": [
    "<div class=\"alert alert-success\" role=\"alert\">\n",
    "<h3> Problem 3 (15 points) </h3>\n",
    "<br>\n",
    "In the last problem, your job is to modify the probabilistic program to make the scenario slightly more complex. We have reimplemented the probabilistic program below with all the functions duplicated with a \"_v2\" flag.\n",
    "<br><br>\n",
    "The idea is that players may also have a \"temper,\" which is a binary variable that is either `True` or `False`. Like `strength`, a player's temper is a PERSISENT variable that should be added to the world state. The probability that any given player has a temper is 0.2. Once a temper is sampled, its value persists until the world is cleared.\n",
    "<br><br>\n",
    "How does the temper variable change the model? If ALL the players on a team have a temper, the overall team strength (sum strength) is divided by 4! Otherwise, there is no effect.\n",
    "<br><br>\n",
    "Here is the assignment:\n",
    "<ul>\n",
    "    <li>First, write complete the function `has_temper` below such that each name is assigned a binary temper value that is persistent like strength. Store this temper value in the world state using `dict_temper.` [Hint: This function will look a lot like the `strength_v2` function]</li>\n",
    "    <li>Second, modify the `team_strength_v2` function to account for the case that all team members have a temper.</li>\n",
    "    <li>Third, run the simulation below comparing the case where Tom and Sue both have tempers to the case where Tom and Sue do not have tempers. How does this influence our inference about Bob's strength? Why? Write a one paragraph response in the very last cell explaining your answer.\n",
    "</ul>\n",
    "</div>"
   ]
  },
  {
   "cell_type": "code",
   "execution_count": 13,
   "metadata": {},
   "outputs": [
    {
     "name": "stdout",
     "output_type": "stream",
     "text": [
      "If Tom and Sue do not have tempers...\n",
      "  Estimate of Bob's strength: mean = 11.879464963115952; effective n = 17214\n",
      "If Tom and Sue BOTH have tempers...\n",
      "  Estimate of Bob's strength: mean = 10.72362366265653; effective n = 2071\n"
     ]
    }
   ],
   "source": [
    "class world_v2():\n",
    "    def __init__(self):\n",
    "        self.dict_strength = {}\n",
    "        self.dict_temper = {}\n",
    "    def clear(self): # used when sampling over possible world\n",
    "        self.dict_strength = {}\n",
    "        self.dict_temper = {}\n",
    "\n",
    "def strength_v2(name):\n",
    "    if name not in W.dict_strength:\n",
    "        W.dict_strength[name] = abs(random.gauss(10,3))\n",
    "    return W.dict_strength[name]\n",
    "\n",
    "def lazy_v2(name):\n",
    "    return random.random() < 0.1\n",
    "        \n",
    "def has_temper(name):\n",
    "    # each player has a 0.2 probability of having a temper\n",
    "    if name not in W.dict_temper:\n",
    "        W.dict_temper[name] = random.random() < 0.2\n",
    "    return W.dict_temper[name]\n",
    "    \n",
    "def team_strength_v2(team):\n",
    "    # team : list of names\n",
    "    mysum = 0.\n",
    "    for name in team:\n",
    "        if lazy_v2(name):\n",
    "            mysum += (strength_v2(name) / 2)\n",
    "        else:\n",
    "            mysum += strength_v2(name)\n",
    "    # if all of the players have a temper, divide sum strength by 4\n",
    "    if all([has_temper(name) for name in team]):\n",
    "        mysum /= 4\n",
    "    return mysum\n",
    "\n",
    "def winner_v2(team1,team2):\n",
    "    # team1 : list of names\n",
    "    # team2 : list of names\n",
    "    if team_strength_v2(team1) > team_strength_v2(team2):\n",
    "        return team1\n",
    "    else:\n",
    "        return team2\n",
    "\n",
    "def beat_v2(team1,team2):\n",
    "    return winner_v2(team1,team2) == team1\n",
    "\n",
    "W = world_v2()\n",
    "\n",
    "f_return = lambda : strength_v2('bob')\n",
    "list_f_conditions = [lambda : not has_temper('tom'), lambda : not has_temper('sue'), lambda : beat_v2( ['bob', 'mary'],['tom', 'sue'] ), lambda : beat_v2( ['bob', 'sue'],  ['tom', 'jim'] )]\n",
    "samples = rejection_sampler(f_return, list_f_conditions, nsamp=100000)\n",
    "mean_strength = np.mean(samples)\n",
    "print(\"If Tom and Sue do not have tempers...\")\n",
    "print(\"  Estimate of Bob's strength: mean = \" + str(mean_strength) + \"; effective n = \" + str(len(samples)))\n",
    "\n",
    "list_f_conditions = [lambda : has_temper('tom'), lambda : has_temper('sue'), lambda : beat_v2( ['bob', 'mary'],['tom', 'sue'] ), lambda : beat_v2( ['bob', 'sue'],  ['tom', 'jim'] )]\n",
    "samples = rejection_sampler(f_return, list_f_conditions, nsamp=100000)\n",
    "mean_strength = np.mean(samples)\n",
    "print(\"If Tom and Sue BOTH have tempers...\")\n",
    "print(\"  Estimate of Bob's strength: mean = \" + str(mean_strength) + \"; effective n = \" + str(len(samples)))"
   ]
  },
  {
   "cell_type": "markdown",
   "metadata": {},
   "source": [
    "Yes it is. Conditioning in temper reduces our confidence in Bob's strength. For instance, if we consider the match where Bob and Mary defeat Tom and Sue, it’s possible that Tom and Sue were in a bad temper, meaning Bob's win might not be due to his strength. This lowers our inference about Bob's ability.\n",
    "\n",
    "Also, the effective n becomes smaller, as adding more conditions leaves fewer samples that meet all criteria."
   ]
  }
 ],
 "metadata": {
  "kernelspec": {
   "display_name": "Python 3 (ipykernel)",
   "language": "python",
   "name": "python3"
  },
  "language_info": {
   "codemirror_mode": {
    "name": "ipython",
    "version": 3
   },
   "file_extension": ".py",
   "mimetype": "text/x-python",
   "name": "python",
   "nbconvert_exporter": "python",
   "pygments_lexer": "ipython3",
   "version": "3.11.4"
  }
 },
 "nbformat": 4,
 "nbformat_minor": 2
}
